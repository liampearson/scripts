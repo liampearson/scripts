{
 "cells": [
  {
   "cell_type": "markdown",
   "metadata": {},
   "source": [
    "## Insert a page from one pdf into another pdf\n",
    "e.g. attaching my statdec to a job application"
   ]
  },
  {
   "cell_type": "code",
   "execution_count": 3,
   "metadata": {},
   "outputs": [],
   "source": [
    "#program to substitute a page in a pdf.\n",
    "#in this case it was replacing a blank stat-dec with a signed one\n",
    "#adapted from Maximilian Peters's answer here: \n",
    "#https://stackoverflow.com/questions/39574096/how-to-delete-pages-from-pdf-file-using-python\n",
    "\n",
    "\n",
    "from PyPDF2 import PdfFileWriter, PdfFileReader\n",
    "\n",
    "pages_to_keep = [0, 1, 2, 3, 4, 5, 6, 7, 8, 9, 10, 11, 12, 13] # page numbering starts from 0\n",
    "\n",
    "infile = PdfFileReader(\"/Users/liampearson/Downloads/my.pdf\", 'rb') #original file\n",
    "subfile = PdfFileReader('/Users/liampearson/Downloads/stat dec.pdf', 'rb') #file to sub in\n",
    "output = PdfFileWriter() #end result\n",
    "\n",
    "#do the first portion\n",
    "for i in pages_to_keep:\n",
    "    p = infile.getPage(i)\n",
    "    output.addPage(p)\n",
    "\n",
    "#sub in the signed page\n",
    "q = subfile.getPage(0)  \n",
    "output.addPage(q)\n",
    "\n",
    "#do the remaining portion\n",
    "pages_to_keep = [15, 16, 17, 18, 19, 20]\n",
    "for i in pages_to_keep:\n",
    "    p = infile.getPage(i)\n",
    "    output.addPage(p)\n",
    "\n",
    "#save the file\n",
    "with open('Pearson Liam.pdf', 'wb') as f:\n",
    "    output.write(f)"
   ]
  },
  {
   "cell_type": "markdown",
   "metadata": {},
   "source": [
    "## Merge a list of pdfs into one\n",
    "e.g. merging all my lecture notes into one pdf"
   ]
  },
  {
   "cell_type": "code",
   "execution_count": 12,
   "metadata": {},
   "outputs": [
    {
     "name": "stdout",
     "output_type": "stream",
     "text": [
      "Requirement already satisfied: PyPDF2 in /anaconda/lib/python3.8/site-packages (1.26.0)\n",
      "['1.1.pdf', '1.2.pdf', '11.1.pdf', '11.2.pdf', '11.prac.pdf', '12.1.pdf', '12.2.pdf', '12.prac.pdf', '2.1.pdf', '4.1.pdf', '4.2.pdf', '7.1.pdf', '7.2.pdf', '7.prac.pdf', '8.1.pdf', '8.2.pdf', '8.prac.pdf', '9.1.pdf', '9.2.pdf', '9.prac1.pdf', '9.prac2.pdf']\n",
      "1.1.pdf\n",
      "1.2.pdf\n",
      "11.1.pdf\n",
      "11.2.pdf\n",
      "11.prac.pdf\n",
      "12.1.pdf\n",
      "12.2.pdf\n",
      "12.prac.pdf\n",
      "2.1.pdf\n",
      "4.1.pdf\n",
      "4.2.pdf\n",
      "7.1.pdf\n",
      "7.2.pdf\n",
      "7.prac.pdf\n",
      "8.1.pdf\n",
      "8.2.pdf\n",
      "8.prac.pdf\n",
      "9.1.pdf\n",
      "9.2.pdf\n",
      "9.prac1.pdf\n",
      "9.prac2.pdf\n"
     ]
    }
   ],
   "source": [
    "#!pip install PyPDF2\n",
    "from PyPDF2 import PdfFileWriter, PdfFileReader\n",
    "\n",
    "#There is a folder of pdfs. Merge these into one document\n",
    "#windows\n",
    "#folder = r\"C:\\Users\\4300xxxxx\\Documents\\Liam_uni\\Lecture Notes\\\\\"\n",
    "\n",
    "#mac\n",
    "FOLDER = '/Users/liampearson/Desktop/Uni/Master DS/COMP8240/Lecture Notes/' #include slash at the end\n",
    "OUTPUT_NAME = 'COMP8240_Lecture_notes.pdf' #include file type e.g. .pdf\n",
    "\n",
    "\n",
    "# Either Name the files manually (e.g. only selected ones or in a certain order)\n",
    "list_of_files = ['Stat8111Week01.pdf', 'SGTA01solution.pdf',\n",
    "                 'Stat8111Week02.pdf', 'SGTA02solution_R.pdf',\n",
    "                 'STAT8111Week03.pdf', 'SGTA03solution.pdf',\n",
    "                 'Stat8111Week04.pdf', 'SGTA04solution.pdf',\n",
    "                 'Stat8111Week05.pdf', 'SGTA05solution.pdf',\n",
    "                 'Stat8111Week06.pdf', 'SGTA06solution.pdf',\n",
    "                 'Stat8111Week07.pdf', \n",
    "                 'Stat8111Week08.pdf', \n",
    "                 'Stat8111Week09.pdf',\n",
    "                 'Stat8111Week10.pdf', \n",
    "                 'Stat8111Week11.pdf',\n",
    "                 'Stat8111Week12.pdf'\n",
    "                ]\n",
    "\n",
    "#or, just get all files (e.g. all pdfs) in a directory\n",
    "import glob\n",
    "list_of_files = glob.glob(FOLDER+\"/*.pdf\")\n",
    "list_of_files = [x.replace(FOLDER,'') for x in list_of_files]\n",
    "print(list_of_files)\n",
    "\n",
    "\n",
    "#where to merge to:\n",
    "output = PdfFileWriter()\n",
    "\n",
    "#Loop over files and append them to output\n",
    "for file in list_of_files:\n",
    "    print(file)\n",
    "    infile = PdfFileReader(FOLDER+file, 'rb')\n",
    "    output.appendPagesFromReader(infile)\n",
    "\n",
    "with open(FOLDER+OUTPUT_NAME, 'wb') as f:\n",
    "    output.write(f)\n"
   ]
  },
  {
   "cell_type": "code",
   "execution_count": null,
   "metadata": {},
   "outputs": [],
   "source": []
  }
 ],
 "metadata": {
  "kernelspec": {
   "display_name": "Python 3",
   "language": "python",
   "name": "python3"
  },
  "language_info": {
   "codemirror_mode": {
    "name": "ipython",
    "version": 3
   },
   "file_extension": ".py",
   "mimetype": "text/x-python",
   "name": "python",
   "nbconvert_exporter": "python",
   "pygments_lexer": "ipython3",
   "version": "3.8.3"
  }
 },
 "nbformat": 4,
 "nbformat_minor": 2
}
