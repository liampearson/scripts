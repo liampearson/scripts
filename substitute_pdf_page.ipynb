{
 "cells": [
  {
   "cell_type": "code",
   "execution_count": 3,
   "metadata": {},
   "outputs": [],
   "source": [
    "#program to substitute a page in a pdf.\n",
    "#in this case it was replacing a blank stat-dec with a signed one\n",
    "#adapted from Maximilian Peters's answer here: \n",
    "#https://stackoverflow.com/questions/39574096/how-to-delete-pages-from-pdf-file-using-python\n",
    "\n",
    "\n",
    "from PyPDF2 import PdfFileWriter, PdfFileReader\n",
    "\n",
    "pages_to_keep = [0, 1, 2, 3, 4, 5, 6, 7, 8, 9, 10, 11, 12, 13] # page numbering starts from 0\n",
    "\n",
    "infile = PdfFileReader(\"/Users/liampearson/Downloads/my.pdf\", 'rb') #original file\n",
    "subfile = PdfFileReader('/Users/liampearson/Downloads/stat dec.pdf', 'rb') #file to sub in\n",
    "output = PdfFileWriter() #end result\n",
    "\n",
    "#do the first portion\n",
    "for i in pages_to_keep:\n",
    "    p = infile.getPage(i)\n",
    "    output.addPage(p)\n",
    "\n",
    "#sub in the signed page\n",
    "q = subfile.getPage(0)  \n",
    "output.addPage(q)\n",
    "\n",
    "#do the remaining portion\n",
    "pages_to_keep = [15, 16, 17, 18, 19, 20]\n",
    "for i in pages_to_keep:\n",
    "    p = infile.getPage(i)\n",
    "    output.addPage(p)\n",
    "\n",
    "#save the file\n",
    "with open('Pearson Liam.pdf', 'wb') as f:\n",
    "    output.write(f)"
   ]
  }
 ],
 "metadata": {
  "kernelspec": {
   "display_name": "Python 3",
   "language": "python",
   "name": "python3"
  },
  "language_info": {
   "codemirror_mode": {
    "name": "ipython",
    "version": 3
   },
   "file_extension": ".py",
   "mimetype": "text/x-python",
   "name": "python",
   "nbconvert_exporter": "python",
   "pygments_lexer": "ipython3",
   "version": "3.6.8"
  }
 },
 "nbformat": 4,
 "nbformat_minor": 2
}
