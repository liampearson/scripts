{
 "cells": [
  {
   "cell_type": "markdown",
   "metadata": {},
   "source": [
    "## Insert a page from one pdf into another pdf\n",
    "e.g. attaching my statdec to a job application"
   ]
  },
  {
   "cell_type": "code",
   "execution_count": 3,
   "metadata": {},
   "outputs": [],
   "source": [
    "#program to substitute a page in a pdf.\n",
    "#in this case it was replacing a blank stat-dec with a signed one\n",
    "#adapted from Maximilian Peters's answer here: \n",
    "#https://stackoverflow.com/questions/39574096/how-to-delete-pages-from-pdf-file-using-python\n",
    "\n",
    "\n",
    "from PyPDF2 import PdfFileWriter, PdfFileReader\n",
    "\n",
    "pages_to_keep = [0, 1, 2, 3, 4, 5, 6, 7, 8, 9, 10, 11, 12, 13] # page numbering starts from 0\n",
    "\n",
    "infile = PdfFileReader(\"/Users/liampearson/Downloads/my.pdf\", 'rb') #original file\n",
    "subfile = PdfFileReader('/Users/liampearson/Downloads/stat dec.pdf', 'rb') #file to sub in\n",
    "output = PdfFileWriter() #end result\n",
    "\n",
    "#do the first portion\n",
    "for i in pages_to_keep:\n",
    "    p = infile.getPage(i)\n",
    "    output.addPage(p)\n",
    "\n",
    "#sub in the signed page\n",
    "q = subfile.getPage(0)  \n",
    "output.addPage(q)\n",
    "\n",
    "#do the remaining portion\n",
    "pages_to_keep = [15, 16, 17, 18, 19, 20]\n",
    "for i in pages_to_keep:\n",
    "    p = infile.getPage(i)\n",
    "    output.addPage(p)\n",
    "\n",
    "#save the file\n",
    "with open('Pearson Liam.pdf', 'wb') as f:\n",
    "    output.write(f)"
   ]
  },
  {
   "cell_type": "markdown",
   "metadata": {},
   "source": [
    "## Merge a list of pdfs into one\n",
    "e.g. merging all my lecture notes into one pdf"
   ]
  },
  {
   "cell_type": "code",
   "execution_count": 14,
   "metadata": {},
   "outputs": [
    {
     "name": "stdout",
     "output_type": "stream",
     "text": [
      "Stat8111Week01.pdf\n",
      "SGTA01solution.pdf\n",
      "Stat8111Week02.pdf\n",
      "SGTA02solution_R.pdf\n",
      "STAT8111Week03.pdf\n",
      "SGTA03solution.pdf\n",
      "Stat8111Week04.pdf\n",
      "SGTA04solution.pdf\n",
      "Stat8111Week05.pdf\n",
      "SGTA05solution.pdf\n",
      "Stat8111Week06.pdf\n",
      "SGTA06solution.pdf\n",
      "Stat8111Week07.pdf\n",
      "Stat8111Week08.pdf\n",
      "Stat8111Week09.pdf\n",
      "Stat8111Week10.pdf\n",
      "Stat8111Week11.pdf\n",
      "Stat8111Week12.pdf\n"
     ]
    }
   ],
   "source": [
    "from PyPDF2 import PdfFileWriter, PdfFileReader\n",
    "\n",
    "#There is a folder of pdfs. Merge these into one document\n",
    "folder = r\"C:\\Users\\4300xxxxx\\Documents\\Liam_uni\\Lecture Notes\\\\\"\n",
    "\n",
    "#the pdfs to merge\n",
    "list_of_files = ['Stat8111Week01.pdf', 'SGTA01solution.pdf',\n",
    "                 'Stat8111Week02.pdf', 'SGTA02solution_R.pdf',\n",
    "                 'STAT8111Week03.pdf', 'SGTA03solution.pdf',\n",
    "                 'Stat8111Week04.pdf', 'SGTA04solution.pdf',\n",
    "                 'Stat8111Week05.pdf', 'SGTA05solution.pdf',\n",
    "                 'Stat8111Week06.pdf', 'SGTA06solution.pdf',\n",
    "                 'Stat8111Week07.pdf', \n",
    "                 'Stat8111Week08.pdf', \n",
    "                 'Stat8111Week09.pdf',\n",
    "                 'Stat8111Week10.pdf', \n",
    "                 'Stat8111Week11.pdf',\n",
    "                 'Stat8111Week12.pdf'\n",
    "                ]\n",
    "\n",
    "#where to merge to:\n",
    "output = PdfFileWriter()\n",
    "\n",
    "#Loop over files and append them to output\n",
    "for file in list_of_files:\n",
    "    print(file)\n",
    "    infile = PdfFileReader(folder+file, 'rb') #original file\n",
    "    output.appendPagesFromReader(infile)\n",
    "\n",
    "with open(folder+'STAT8111_ALL_Lecture_Notes.pdf', 'wb') as f:\n",
    "    output.write(f)\n"
   ]
  },
  {
   "cell_type": "code",
   "execution_count": null,
   "metadata": {},
   "outputs": [],
   "source": []
  }
 ],
 "metadata": {
  "kernelspec": {
   "display_name": "Python 3",
   "language": "python",
   "name": "python3"
  },
  "language_info": {
   "codemirror_mode": {
    "name": "ipython",
    "version": 3
   },
   "file_extension": ".py",
   "mimetype": "text/x-python",
   "name": "python",
   "nbconvert_exporter": "python",
   "pygments_lexer": "ipython3",
   "version": "3.7.4"
  }
 },
 "nbformat": 4,
 "nbformat_minor": 2
}
