{
  "nbformat": 4,
  "nbformat_minor": 0,
  "metadata": {
    "colab": {
      "name": "Welcome To Colaboratory",
      "provenance": [],
      "collapsed_sections": [],
      "toc_visible": true
    },
    "kernelspec": {
      "display_name": "Python 3",
      "name": "python3"
    }
  },
  "cells": [
    {
      "cell_type": "markdown",
      "metadata": {
        "id": "JpB2SGENYjjw"
      },
      "source": [
        "# Get Reviews from Google Maps\n",
        "\n",
        "First, you will need an API key. See this link to get yours:\n",
        "\n",
        "https://developers.google.com/places/web-service/get-api-key#creating-api-keys"
      ]
    },
    {
      "cell_type": "code",
      "metadata": {
        "id": "Y5OjM_80YJ4g"
      },
      "source": [
        "! pip install -U googlemaps\n",
        "import googlemaps\n",
        "import pandas as pd\n",
        "\n",
        "#Instance of google maps\n",
        "gmaps = googlemaps.Client(key='')"
      ],
      "execution_count": null,
      "outputs": []
    },
    {
      "cell_type": "code",
      "metadata": {
        "id": "uN1ylU5aZ5D7",
        "outputId": "e6ecf4b3-7ea9-4dd8-a97d-a553b25f22c8",
        "colab": {
          "base_uri": "https://localhost:8080/",
          "height": 35
        }
      },
      "source": [
        "def get_place_id(place_name, gmaps=gmaps):\n",
        "  \"\"\"\n",
        "  given the name of a place (such as a resutaurant) return its place_id\n",
        "  \"\"\"\n",
        "  places_result = gmaps.places(place_name)\n",
        "  place_id = places_result['results'][0]['place_id']\n",
        "\n",
        "  return place_id"
      ],
      "execution_count": 18,
      "outputs": [
        {
          "output_type": "execute_result",
          "data": {
            "application/vnd.google.colaboratory.intrinsic+json": {
              "type": "string"
            },
            "text/plain": [
              "'ChIJWaQdXNqYEmsRSDGs1WmgHlQ'"
            ]
          },
          "metadata": {
            "tags": []
          },
          "execution_count": 18
        }
      ]
    },
    {
      "cell_type": "code",
      "metadata": {
        "id": "MHqilIyebJVv",
        "outputId": "882f6238-aaba-400b-a111-b2e34b0cea5d",
        "colab": {
          "base_uri": "https://localhost:8080/",
          "height": 204
        }
      },
      "source": [
        "def get_5_reviews(place_name=\"\", place_id=\"\", gmaps=gmaps):\n",
        "  \"\"\"\n",
        "  Given either a place_name, or place_ID, return 5 reviews and star ratings\n",
        "  Currently, Googlemaps only lets you retreive 5 reviews from a place (for free)\n",
        "  \"\"\"\n",
        "  \n",
        "  #lookup the place by placeID\n",
        "  if place_id!='':\n",
        "    place = gmaps.place(place_id = place_id)\n",
        "  \n",
        "  #if no placeID, but we have a place string, use this to get a placeID\n",
        "  elif place_name!='':\n",
        "    place = gmaps.place(place_id = get_place_id(place_name))\n",
        "\n",
        "  #if neither is given, print error\n",
        "  else:\n",
        "    print(\"no name or id given\")\n",
        "\n",
        "  reviews = [] #empty list to hold dictionaries of reviews\n",
        "\n",
        "  #iterate over every review and get the text and rating (out of 5)\n",
        "  for i in range(len(place['result']['reviews'])):\n",
        "    rating = place['result']['reviews'][i]['rating']\n",
        "    text = place['result']['reviews'][i]['text']\n",
        "\n",
        "    #add text and star-rating to a list of dictionaries\n",
        "    reviews.append({'review':text,\n",
        "                    'rating':rating\n",
        "                    })\n",
        "\n",
        "  return reviews"
      ],
      "execution_count": 26,
      "outputs": [
        {
          "output_type": "execute_result",
          "data": {
            "text/html": [
              "<div>\n",
              "<style scoped>\n",
              "    .dataframe tbody tr th:only-of-type {\n",
              "        vertical-align: middle;\n",
              "    }\n",
              "\n",
              "    .dataframe tbody tr th {\n",
              "        vertical-align: top;\n",
              "    }\n",
              "\n",
              "    .dataframe thead th {\n",
              "        text-align: right;\n",
              "    }\n",
              "</style>\n",
              "<table border=\"1\" class=\"dataframe\">\n",
              "  <thead>\n",
              "    <tr style=\"text-align: right;\">\n",
              "      <th></th>\n",
              "      <th>review</th>\n",
              "      <th>rating</th>\n",
              "    </tr>\n",
              "  </thead>\n",
              "  <tbody>\n",
              "    <tr>\n",
              "      <th>0</th>\n",
              "      <td>I went to Arndell Park McDonald’s after School...</td>\n",
              "      <td>1</td>\n",
              "    </tr>\n",
              "    <tr>\n",
              "      <th>1</th>\n",
              "      <td>When I go see friends I pop in to Maca's the S...</td>\n",
              "      <td>4</td>\n",
              "    </tr>\n",
              "    <tr>\n",
              "      <th>2</th>\n",
              "      <td>Got order wrong. Took 20 minutes, and charged ...</td>\n",
              "      <td>1</td>\n",
              "    </tr>\n",
              "    <tr>\n",
              "      <th>3</th>\n",
              "      <td>Big place, lots of seating.</td>\n",
              "      <td>5</td>\n",
              "    </tr>\n",
              "    <tr>\n",
              "      <th>4</th>\n",
              "      <td>Very nice, but slightly forgetful personal. Ta...</td>\n",
              "      <td>4</td>\n",
              "    </tr>\n",
              "  </tbody>\n",
              "</table>\n",
              "</div>"
            ],
            "text/plain": [
              "                                              review  rating\n",
              "0  I went to Arndell Park McDonald’s after School...       1\n",
              "1  When I go see friends I pop in to Maca's the S...       4\n",
              "2  Got order wrong. Took 20 minutes, and charged ...       1\n",
              "3                        Big place, lots of seating.       5\n",
              "4  Very nice, but slightly forgetful personal. Ta...       4"
            ]
          },
          "metadata": {
            "tags": []
          },
          "execution_count": 26
        }
      ]
    },
    {
      "cell_type": "code",
      "metadata": {
        "id": "4W9vXIJffEHk",
        "outputId": "104332f5-2082-4f72-9b27-a46a17deea25",
        "colab": {
          "base_uri": "https://localhost:8080/",
          "height": 419
        }
      },
      "source": [
        "# declare an empty dataframe\n",
        "df = pd.DataFrame()\n",
        "\n",
        "LIST_OF_SUBURBS = ['Arndell Park','Haberfield','Seven Hills', 'Blacktown', \n",
        "                   'Stanmore', 'St Peters', 'Waterloo', 'Ultimo', 'Green Square',\n",
        "                   'Darling Quarter', 'Kingsford', 'Hurlstone Park', 'Kings Cross',\n",
        "                   ]\n",
        "\n",
        "# iterate over suburbs and get reviews for Mcdonalds in that suburb\n",
        "for suburb in LIST_OF_SUBURBS:\n",
        "  temp = pd.DataFrame(get_5_reviews(place_name=\"Mcdonalds \"+suburb))\n",
        "  df=df.append(temp)\n",
        "\n",
        "df.to_csv('Mcdonalds_google_reviews.csv')\n"
      ],
      "execution_count": 34,
      "outputs": [
        {
          "output_type": "execute_result",
          "data": {
            "text/html": [
              "<div>\n",
              "<style scoped>\n",
              "    .dataframe tbody tr th:only-of-type {\n",
              "        vertical-align: middle;\n",
              "    }\n",
              "\n",
              "    .dataframe tbody tr th {\n",
              "        vertical-align: top;\n",
              "    }\n",
              "\n",
              "    .dataframe thead th {\n",
              "        text-align: right;\n",
              "    }\n",
              "</style>\n",
              "<table border=\"1\" class=\"dataframe\">\n",
              "  <thead>\n",
              "    <tr style=\"text-align: right;\">\n",
              "      <th></th>\n",
              "      <th>review</th>\n",
              "      <th>rating</th>\n",
              "    </tr>\n",
              "  </thead>\n",
              "  <tbody>\n",
              "    <tr>\n",
              "      <th>0</th>\n",
              "      <td>I went to Arndell Park McDonald’s after School...</td>\n",
              "      <td>1</td>\n",
              "    </tr>\n",
              "    <tr>\n",
              "      <th>1</th>\n",
              "      <td>When I go see friends I pop in to Maca's the S...</td>\n",
              "      <td>4</td>\n",
              "    </tr>\n",
              "    <tr>\n",
              "      <th>2</th>\n",
              "      <td>Got order wrong. Took 20 minutes, and charged ...</td>\n",
              "      <td>1</td>\n",
              "    </tr>\n",
              "    <tr>\n",
              "      <th>3</th>\n",
              "      <td>Big place, lots of seating.</td>\n",
              "      <td>5</td>\n",
              "    </tr>\n",
              "    <tr>\n",
              "      <th>4</th>\n",
              "      <td>Very nice, but slightly forgetful personal. Ta...</td>\n",
              "      <td>4</td>\n",
              "    </tr>\n",
              "    <tr>\n",
              "      <th>...</th>\n",
              "      <td>...</td>\n",
              "      <td>...</td>\n",
              "    </tr>\n",
              "    <tr>\n",
              "      <th>0</th>\n",
              "      <td>Can you go every corner of u. K</td>\n",
              "      <td>5</td>\n",
              "    </tr>\n",
              "    <tr>\n",
              "      <th>1</th>\n",
              "      <td>Normal stuff. Be careful of ID and cash thieve...</td>\n",
              "      <td>3</td>\n",
              "    </tr>\n",
              "    <tr>\n",
              "      <th>2</th>\n",
              "      <td>Not very quick and did people meal before our ...</td>\n",
              "      <td>3</td>\n",
              "    </tr>\n",
              "    <tr>\n",
              "      <th>3</th>\n",
              "      <td>Honestly one of the best McDonalds I've ever b...</td>\n",
              "      <td>4</td>\n",
              "    </tr>\n",
              "    <tr>\n",
              "      <th>4</th>\n",
              "      <td>It's McD's; it's undoubtedly cheaper than say ...</td>\n",
              "      <td>3</td>\n",
              "    </tr>\n",
              "  </tbody>\n",
              "</table>\n",
              "<p>65 rows × 2 columns</p>\n",
              "</div>"
            ],
            "text/plain": [
              "                                               review  rating\n",
              "0   I went to Arndell Park McDonald’s after School...       1\n",
              "1   When I go see friends I pop in to Maca's the S...       4\n",
              "2   Got order wrong. Took 20 minutes, and charged ...       1\n",
              "3                         Big place, lots of seating.       5\n",
              "4   Very nice, but slightly forgetful personal. Ta...       4\n",
              "..                                                ...     ...\n",
              "0                     Can you go every corner of u. K       5\n",
              "1   Normal stuff. Be careful of ID and cash thieve...       3\n",
              "2   Not very quick and did people meal before our ...       3\n",
              "3   Honestly one of the best McDonalds I've ever b...       4\n",
              "4   It's McD's; it's undoubtedly cheaper than say ...       3\n",
              "\n",
              "[65 rows x 2 columns]"
            ]
          },
          "metadata": {
            "tags": []
          },
          "execution_count": 34
        }
      ]
    },
    {
      "cell_type": "code",
      "metadata": {
        "id": "YjzqmPYvYq7r"
      },
      "source": [
        "df.to_csv('Mcdonalds_google_reviews.csv')"
      ],
      "execution_count": 35,
      "outputs": []
    }
  ]
}