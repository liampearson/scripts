{
 "cells": [
  {
   "cell_type": "code",
   "execution_count": 1,
   "metadata": {},
   "outputs": [
    {
     "name": "stdout",
     "output_type": "stream",
     "text": [
      "Please enter website/organisation name or type x to escapewesfil\n",
      "Please enter usernamesales@sydneyfilters.com.au\n",
      "Please enter passwordobilunoz\n",
      "Please enter website/organisation name or type x to escapesakura\n",
      "Please enter usernamesydneyf1\n",
      "Please enter passwordfilter5\n",
      "Please enter website/organisation name or type x to escapegooglesheets\n",
      "Please enter usernamePrice Lists-4a1d16d29c20.json\n",
      "Please enter password\n",
      "Please enter website/organisation name or type x to escapex\n"
     ]
    }
   ],
   "source": [
    "import configparser\n",
    "config = configparser.ConfigParser()\n",
    "\n",
    "null =0\n",
    "while(null==0):\n",
    "    websiteName = input (\"Please enter website/organisation name or type x to escape\")\n",
    "    \n",
    "    if(websiteName=='x'):\n",
    "        break\n",
    "        \n",
    "    username = input(\"Please enter username\")\n",
    "    password = input(\"Please enter password\")\n",
    "\n",
    "    config[websiteName]={}\n",
    "    config[websiteName]['user'] = username\n",
    "    config[websiteName]['password'] = password\n",
    "\n",
    "with open('xref.ini', 'w') as configfile:\n",
    "    config.write(configfile)\n",
    "\n"
   ]
  },
  {
   "cell_type": "code",
   "execution_count": null,
   "metadata": {
    "collapsed": true
   },
   "outputs": [],
   "source": []
  }
 ],
 "metadata": {
  "kernelspec": {
   "display_name": "Python 3",
   "language": "python",
   "name": "python3"
  },
  "language_info": {
   "codemirror_mode": {
    "name": "ipython",
    "version": 3
   },
   "file_extension": ".py",
   "mimetype": "text/x-python",
   "name": "python",
   "nbconvert_exporter": "python",
   "pygments_lexer": "ipython3",
   "version": "3.6.5"
  }
 },
 "nbformat": 4,
 "nbformat_minor": 2
}
