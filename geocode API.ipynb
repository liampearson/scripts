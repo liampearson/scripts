{
 "cells": [
  {
   "cell_type": "code",
   "execution_count": 28,
   "metadata": {},
   "outputs": [
    {
     "data": {
      "text/plain": [
       "[{'address_components': [{'long_name': '1600',\n",
       "    'short_name': '1600',\n",
       "    'types': ['street_number']},\n",
       "   {'long_name': 'Amphitheatre Parkway',\n",
       "    'short_name': 'Amphitheatre Pkwy',\n",
       "    'types': ['route']},\n",
       "   {'long_name': 'Mountain View',\n",
       "    'short_name': 'Mountain View',\n",
       "    'types': ['locality', 'political']},\n",
       "   {'long_name': 'Santa Clara County',\n",
       "    'short_name': 'Santa Clara County',\n",
       "    'types': ['administrative_area_level_2', 'political']},\n",
       "   {'long_name': 'California',\n",
       "    'short_name': 'CA',\n",
       "    'types': ['administrative_area_level_1', 'political']},\n",
       "   {'long_name': 'United States',\n",
       "    'short_name': 'US',\n",
       "    'types': ['country', 'political']},\n",
       "   {'long_name': '94043', 'short_name': '94043', 'types': ['postal_code']}],\n",
       "  'formatted_address': '1600 Amphitheatre Pkwy, Mountain View, CA 94043, USA',\n",
       "  'geometry': {'location': {'lat': 37.42231, 'lng': -122.0846241},\n",
       "   'location_type': 'ROOFTOP',\n",
       "   'viewport': {'northeast': {'lat': 37.42365898029151,\n",
       "     'lng': -122.0832751197085},\n",
       "    'southwest': {'lat': 37.42096101970851, 'lng': -122.0859730802915}}},\n",
       "  'place_id': 'ChIJtYuu0V25j4ARwu5e4wwRYgE',\n",
       "  'plus_code': {'compound_code': 'CWC8+W5 Mountain View, California, United States',\n",
       "   'global_code': '849VCWC8+W5'},\n",
       "  'types': ['street_address']}]"
      ]
     },
     "execution_count": 28,
     "metadata": {},
     "output_type": "execute_result"
    }
   ],
   "source": [
    "import googlemaps\n",
    "from datetime import datetime\n",
    "\n",
    "#Instance of google maps\n",
    "gmaps = googlemaps.Client(key='INSERT KEY HERE') #pearson.liam@gmail.com\n",
    "\n",
    "# Geocoding an address\n",
    "geocode_result = gmaps.geocode('1600 Amphitheatre Parkway, Mountain View, CA')\n",
    "geocode_result"
   ]
  },
  {
   "cell_type": "markdown",
   "metadata": {},
   "source": [
    "We are returned a list of dictionaries. Our result is the first dictionary in the list"
   ]
  },
  {
   "cell_type": "code",
   "execution_count": 29,
   "metadata": {},
   "outputs": [
    {
     "data": {
      "text/plain": [
       "{'address_components': [{'long_name': '1600',\n",
       "   'short_name': '1600',\n",
       "   'types': ['street_number']},\n",
       "  {'long_name': 'Amphitheatre Parkway',\n",
       "   'short_name': 'Amphitheatre Pkwy',\n",
       "   'types': ['route']},\n",
       "  {'long_name': 'Mountain View',\n",
       "   'short_name': 'Mountain View',\n",
       "   'types': ['locality', 'political']},\n",
       "  {'long_name': 'Santa Clara County',\n",
       "   'short_name': 'Santa Clara County',\n",
       "   'types': ['administrative_area_level_2', 'political']},\n",
       "  {'long_name': 'California',\n",
       "   'short_name': 'CA',\n",
       "   'types': ['administrative_area_level_1', 'political']},\n",
       "  {'long_name': 'United States',\n",
       "   'short_name': 'US',\n",
       "   'types': ['country', 'political']},\n",
       "  {'long_name': '94043', 'short_name': '94043', 'types': ['postal_code']}],\n",
       " 'formatted_address': '1600 Amphitheatre Pkwy, Mountain View, CA 94043, USA',\n",
       " 'geometry': {'location': {'lat': 37.42231, 'lng': -122.0846241},\n",
       "  'location_type': 'ROOFTOP',\n",
       "  'viewport': {'northeast': {'lat': 37.42365898029151,\n",
       "    'lng': -122.0832751197085},\n",
       "   'southwest': {'lat': 37.42096101970851, 'lng': -122.0859730802915}}},\n",
       " 'place_id': 'ChIJtYuu0V25j4ARwu5e4wwRYgE',\n",
       " 'plus_code': {'compound_code': 'CWC8+W5 Mountain View, California, United States',\n",
       "  'global_code': '849VCWC8+W5'},\n",
       " 'types': ['street_address']}"
      ]
     },
     "execution_count": 29,
     "metadata": {},
     "output_type": "execute_result"
    }
   ],
   "source": [
    "result = geocode_result[0]\n",
    "result"
   ]
  },
  {
   "cell_type": "code",
   "execution_count": 30,
   "metadata": {},
   "outputs": [
    {
     "data": {
      "text/plain": [
       "dict_keys(['address_components', 'formatted_address', 'geometry', 'place_id', 'plus_code', 'types'])"
      ]
     },
     "execution_count": 30,
     "metadata": {},
     "output_type": "execute_result"
    }
   ],
   "source": [
    "#view keys\n",
    "result.keys()"
   ]
  },
  {
   "cell_type": "code",
   "execution_count": 31,
   "metadata": {},
   "outputs": [
    {
     "data": {
      "text/plain": [
       "{'location': {'lat': 37.42231, 'lng': -122.0846241},\n",
       " 'location_type': 'ROOFTOP',\n",
       " 'viewport': {'northeast': {'lat': 37.42365898029151,\n",
       "   'lng': -122.0832751197085},\n",
       "  'southwest': {'lat': 37.42096101970851, 'lng': -122.0859730802915}}}"
      ]
     },
     "execution_count": 31,
     "metadata": {},
     "output_type": "execute_result"
    }
   ],
   "source": [
    "#accesing the geometry key we see that it holds another dictionary\n",
    "result[\"geometry\"]"
   ]
  },
  {
   "cell_type": "code",
   "execution_count": 32,
   "metadata": {},
   "outputs": [
    {
     "name": "stdout",
     "output_type": "stream",
     "text": [
      "37.42231\n",
      "-122.0846241\n"
     ]
    }
   ],
   "source": [
    "#Accessing the latitude and longitude\n",
    "print(result[\"geometry\"]['location']['lat'])\n",
    "print(result[\"geometry\"]['location']['lng'])"
   ]
  },
  {
   "cell_type": "code",
   "execution_count": null,
   "metadata": {},
   "outputs": [],
   "source": []
  }
 ],
 "metadata": {
  "kernelspec": {
   "display_name": "Python 3",
   "language": "python",
   "name": "python3"
  },
  "language_info": {
   "codemirror_mode": {
    "name": "ipython",
    "version": 3
   },
   "file_extension": ".py",
   "mimetype": "text/x-python",
   "name": "python",
   "nbconvert_exporter": "python",
   "pygments_lexer": "ipython3",
   "version": "3.6.8"
  }
 },
 "nbformat": 4,
 "nbformat_minor": 2
}
