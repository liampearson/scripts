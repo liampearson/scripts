{
 "cells": [
  {
   "cell_type": "markdown",
   "metadata": {},
   "source": [
    "# How to send email (gmail) from Python"
   ]
  },
  {
   "cell_type": "code",
   "execution_count": 16,
   "metadata": {},
   "outputs": [
    {
     "name": "stdout",
     "output_type": "stream",
     "text": [
      "pearson.liam@gmail.com\n",
      "········\n"
     ]
    }
   ],
   "source": [
    "import smtplib, getpass\n",
    "\n",
    "username=\"\"\n",
    "password=\"\"\n",
    "\n",
    "# Ask the user for their username\n",
    "username = input()\n",
    "\n",
    "#Ask the user for their password\n",
    "#if 2FA is set for gmail, refer to APP PASSWORDS with google\n",
    "password = getpass.getpass()\n",
    "\n",
    "#host and port specific to google\n",
    "session = smtplib.SMTP('smtp.gmail.com', 587)"
   ]
  },
  {
   "cell_type": "code",
   "execution_count": 17,
   "metadata": {},
   "outputs": [
    {
     "data": {
      "text/plain": [
       "(235, b'2.7.0 Accepted')"
      ]
     },
     "execution_count": 17,
     "metadata": {},
     "output_type": "execute_result"
    }
   ],
   "source": [
    "#Initiate connection to the server\n",
    "session.ehlo()\n",
    "#Start encrypting everything you're sending to the server\n",
    "session.starttls()\n",
    "#Log into the server by sending them our username and password\n",
    "session.login(username, password)"
   ]
  },
  {
   "cell_type": "code",
   "execution_count": 22,
   "metadata": {},
   "outputs": [
    {
     "data": {
      "text/plain": [
       "(221, b'2.0.0 closing connection i185sm2787394pfg.14 - gsmtp')"
      ]
     },
     "execution_count": 22,
     "metadata": {},
     "output_type": "execute_result"
    }
   ],
   "source": [
    "recipient = \"pearson.liam+test@gmail.com\"\n",
    "headers = \"\\r\\n\".join([\"from: \" + username,\n",
    "                       \"subject: Hello\",\n",
    "                       \"to: \" + recipient,\n",
    "                       \"mime-version: 1.0\",\n",
    "                       \"content-type: text/html\"])\n",
    "\n",
    "body_of_email = \"Here's my email body content. I can put HTML in this if I want to, like a <br> line <br> break!\"\n",
    "                       \n",
    "content = headers + \"\\r\\n\\r\\n\" + body_of_email\n",
    "session.sendmail(username, recipient, content)\n",
    "session.quit()                     "
   ]
  },
  {
   "cell_type": "code",
   "execution_count": null,
   "metadata": {},
   "outputs": [],
   "source": []
  }
 ],
 "metadata": {
  "kernelspec": {
   "display_name": "Python 3",
   "language": "python",
   "name": "python3"
  },
  "language_info": {
   "codemirror_mode": {
    "name": "ipython",
    "version": 3
   },
   "file_extension": ".py",
   "mimetype": "text/x-python",
   "name": "python",
   "nbconvert_exporter": "python",
   "pygments_lexer": "ipython3",
   "version": "3.6.8"
  }
 },
 "nbformat": 4,
 "nbformat_minor": 2
}
